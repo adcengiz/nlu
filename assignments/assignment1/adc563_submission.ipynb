{
 "cells": [
  {
   "cell_type": "markdown",
   "metadata": {},
   "source": [
    "<h1 id=\"tocheading\">Natural Language Understanding DS-GA 1012 Homework 1</h1>\n",
    "<div id=\"toc\"></div>"
   ]
  },
  {
   "cell_type": "markdown",
   "metadata": {},
   "source": [
    "__Due Feburary 13, 2019 at 2pm (ET)__"
   ]
  },
  {
   "cell_type": "code",
   "execution_count": 1,
   "metadata": {},
   "outputs": [
    {
     "data": {
      "application/javascript": [
       "$.getScript('https://kmahelona.github.io/ipython_notebook_goodies/ipython_notebook_toc.js')"
      ],
      "text/plain": [
       "<IPython.core.display.Javascript object>"
      ]
     },
     "metadata": {},
     "output_type": "display_data"
    }
   ],
   "source": [
    "%%javascript\n",
    "$.getScript('https://kmahelona.github.io/ipython_notebook_goodies/ipython_notebook_toc.js')"
   ]
  },
  {
   "cell_type": "code",
   "execution_count": 2,
   "metadata": {},
   "outputs": [],
   "source": [
    "import numpy as np\n",
    "import itertools\n",
    "import pandas as pd\n",
    "import matplotlib.pyplot as plt\n",
    "import torch, torchvision\n",
    "from torch import nn, optim\n",
    "from torch.nn import functional as F\n",
    "from torch.utils.data import Dataset, DataLoader\n",
    "from collections import OrderedDict\n",
    "import os\n",
    "from numpy.linalg import norm\n",
    "import argparse\n",
    "from collections import Counter\n",
    "import operator\n",
    "\n",
    "%matplotlib inline"
   ]
  },
  {
   "cell_type": "markdown",
   "metadata": {},
   "source": [
    "## Part I: Exploring effect of context size [30 pts]"
   ]
  },
  {
   "cell_type": "markdown",
   "metadata": {},
   "source": [
    "We face many implicit and explicit design decisions in creating distributional word representations. For example, in lecture and in lab, we created word vectors using a co-occurence matrix built on neighboring pairs of words. We might suspect, however, that we can get more signal of word similarity by considering larger contexts than pairs of words."
   ]
  },
  {
   "cell_type": "markdown",
   "metadata": {},
   "source": [
    "### Co-occurence Matrix\n",
    "__a__. Write `build_cooccurrence_matrix`, which generates the co-occurence matrix for a window of arbitrary size and for the vocabulary of `max_vocab_size` most frequent words. Feel free to modify the code used in lab [10 pts]"
   ]
  },
  {
   "cell_type": "code",
   "execution_count": 3,
   "metadata": {},
   "outputs": [],
   "source": [
    "def remove_(string, list_of_char):\n",
    "    for x in list_of_char:\n",
    "        string = string.replace(str(x), \"\")\n",
    "    return string"
   ]
  },
  {
   "cell_type": "code",
   "execution_count": 4,
   "metadata": {},
   "outputs": [],
   "source": [
    "def text_to_list(filepath, mode=\"w\"):\n",
    "    \"\"\"args\n",
    "        - filepath: path to text file\n",
    "        - mode: \"w\" for word, \"s\" for sentence list\n",
    "    \n",
    "    returns:\n",
    "        - text_list: word or sentence list depending on the mode\"\"\"\n",
    "    \n",
    "    text = open(filepath, \"r\")\n",
    "    \n",
    "    if mode == \"w\":\n",
    "        text_list = text.read().replace(\"\\t\",\" \").replace(\"\\n\",\" \")\n",
    "        text_list = remove_(text_list,range(10)).lower().split(\" \")[1:]\n",
    "    elif mode == \"s\":\n",
    "        text_list = text.read().split(\"\\n\")\n",
    "        text_list = [sent.replace(\"\\t\",\"\") for sent in text_list]\n",
    "        text_list = [remove_(x,range(10)).lower().split(\" \") for x in text_list][1:]\n",
    "\n",
    "    else:\n",
    "        raise ValueError (\"mode must be 'w'(word) or 's'(sentence)!\")\n",
    "        \n",
    "    return text_list"
   ]
  },
  {
   "cell_type": "code",
   "execution_count": 5,
   "metadata": {},
   "outputs": [],
   "source": [
    "data_sentence = text_to_list(\"data/datasetSentences.txt\", \"s\")"
   ]
  },
  {
   "cell_type": "code",
   "execution_count": 6,
   "metadata": {},
   "outputs": [],
   "source": [
    "data_word = text_to_list(\"data/datasetSentences.txt\", \"w\")"
   ]
  },
  {
   "cell_type": "code",
   "execution_count": 30,
   "metadata": {},
   "outputs": [],
   "source": [
    "def build_cooccurrence_matrix(data, \n",
    "                              max_vocab_size=10000, \n",
    "                              context_size=1):\n",
    "    \n",
    "    \"\"\" Build a co-occurrence matrix\n",
    "    \n",
    "    args:\n",
    "        - data: iterable where each item is a list of tokens (string) \n",
    "        - max_vocab_size: maximum vocabulary size\n",
    "        - context_size: window around a word that is considered context\n",
    "            context_size=1 should consider pairs of adjacent words\n",
    "            \n",
    "    returns:\n",
    "        - co-occurrence matrix: numpy array where row i corresponds \n",
    "        to the co-occurrence counts for word i\"\"\"\n",
    "    \n",
    "    assert (type(data) == list or type(data) == np.ndarray), \"First input must be a list or a numpy ndarray!\"\n",
    "    \n",
    "    if type(data) == list:\n",
    "        assert (len(data) > 0), \"Data must be non-empty.\"\n",
    "    else:\n",
    "        assert (data.shape[0] > 0), \"Data must be non-empty.\"\n",
    "        \n",
    "    ## assuming data is a list of sentences (each split into tokens)\n",
    "    word_data = ((\" \").join([(\" \").join(x) for x in data])).split(\" \")\n",
    "    word2count = Counter(word_data)\n",
    "    sorted_by_freq = sorted(word2count.items(), \n",
    "                            key=lambda kv: kv[1])\n",
    "    \n",
    "    # vocab = {word: count} for the most frequent max_vocab_size words\n",
    "    vocab = dict(sorted_by_freq[-max_vocab_size:])\n",
    "    keys = [*vocab.keys()]\n",
    "    \n",
    "    token2id = {}\n",
    "    id2token = {}\n",
    "    \n",
    "    for i in range(len(data)):\n",
    "        data[i] = [x if x in keys else \"<UNK>\" for x in data[i]]\n",
    "        \n",
    "    f_keys = keys + [\"<UNK>\"]\n",
    "    \n",
    "#     print (f_keys)\n",
    "    \n",
    "    for token in f_keys:\n",
    "        token2id[token] = f_keys.index(token)\n",
    "        \n",
    "#     print (token2id)\n",
    "        \n",
    "    for j in range(len(f_keys)):\n",
    "        id2token[j] = f_keys[j]\n",
    "        \n",
    "#     print (id2token)\n",
    "\n",
    "    edge = len(f_keys) - 1\n",
    "    comatrix = np.zeros((edge, edge))\n",
    "\n",
    "    # dict where each key is a unique token and each value is another dict of other unique keys \n",
    "    # that hold cooccurrence counts\n",
    "    occurrences = OrderedDict((key, OrderedDict((key, 0) for key in f_keys)) for key in f_keys)\n",
    "\n",
    "    for sent in data:\n",
    "        sent_length = len(sent)\n",
    "        if context_size >= sent_length:\n",
    "            for i in range(sent_length):\n",
    "                for item in sent:\n",
    "                    occurrences[sent[i]][item] += 1\n",
    "        else:\n",
    "            for i in range(sent_length):\n",
    "                if i <= context_size and sent_length - context_size - 1 <= i:\n",
    "                    for item in sent:\n",
    "                        occurrences[sent[i]][item] += 1\n",
    "                elif i <= context_size and sent_length - context_size - 1 > i:\n",
    "                    for item in sent[:i+context_size+1]:\n",
    "                        occurrences[sent[i]][item] += 1\n",
    "                elif i > context_size and sent_length - context_size - 1 > i:\n",
    "                    for item in sent[i-context_size:i+context_size+1]:\n",
    "                        occurrences[sent[i]][item] += 1\n",
    "                elif i > context_size and sent_length - context_size - 1 <= i:\n",
    "                    for item in sent[i-context_size:]:\n",
    "                        occurrences[sent[i]][item] += 1\n",
    "\n",
    "    for i in range(edge):\n",
    "        for key in f_keys:\n",
    "            if token2id[key] == i:\n",
    "                comatrix[token2id[key]] = np.array([occurrences[key][co] for co in [*occurrences[key].keys()]])\n",
    "                    \n",
    "    return token2id, id2token, comatrix"
   ]
  },
  {
   "cell_type": "code",
   "execution_count": 17,
   "metadata": {},
   "outputs": [],
   "source": [
    "A = [[\"this\", \"is\", \"a\", \"sentence\"], [\"and\", \"this\", \"is\", \"another\",\"sentence\"]]"
   ]
  },
  {
   "cell_type": "code",
   "execution_count": 18,
   "metadata": {},
   "outputs": [
    {
     "data": {
      "text/plain": [
       "({'a': 0,\n",
       "  'and': 1,\n",
       "  'another': 2,\n",
       "  'this': 3,\n",
       "  'is': 4,\n",
       "  'sentence': 5,\n",
       "  '<UNK>': 6},\n",
       " {0: 'a',\n",
       "  1: 'and',\n",
       "  2: 'another',\n",
       "  3: 'this',\n",
       "  4: 'is',\n",
       "  5: 'sentence',\n",
       "  6: '<UNK>'},\n",
       " array([[1., 0., 0., 1., 1., 1., 0.],\n",
       "        [0., 1., 1., 1., 1., 0., 0.],\n",
       "        [0., 1., 1., 1., 1., 1., 0.],\n",
       "        [1., 1., 1., 2., 2., 2., 0.],\n",
       "        [1., 1., 1., 2., 2., 2., 0.],\n",
       "        [1., 0., 1., 2., 2., 2., 0.],\n",
       "        [0., 0., 0., 0., 0., 0., 0.]]))"
      ]
     },
     "execution_count": 18,
     "metadata": {},
     "output_type": "execute_result"
    }
   ],
   "source": [
    "build_cooccurrence_matrix(A, context_size=3)"
   ]
  },
  {
   "cell_type": "code",
   "execution_count": 19,
   "metadata": {},
   "outputs": [],
   "source": [
    "# token2id, id2token, co_matrix = build_cooccurrence_matrix(data_sentence, max_vocab_size=10000, context_size=2)"
   ]
  },
  {
   "cell_type": "markdown",
   "metadata": {},
   "source": [
    "### Matrix for Sentence Data"
   ]
  },
  {
   "cell_type": "markdown",
   "metadata": {},
   "source": [
    "Use your implementation of `build_cooccurrence_matrix` to generate the co-occurence matrix from the sentences of [SST](http://nlp.stanford.edu/~socherr/stanfordSentimentTreebank.zip) (file `datasetSentences.txt`) with `context_size=2` and `max_vocab_size=10000`. What is the co-occurrence count of the words \"the\" and \"end\"? "
   ]
  },
  {
   "cell_type": "code",
   "execution_count": 20,
   "metadata": {},
   "outputs": [],
   "source": [
    "token2id, id2token, co_matrix = build_cooccurrence_matrix(data_sentence, \n",
    "                                                          max_vocab_size=10000, \n",
    "                                                          context_size=2)"
   ]
  },
  {
   "cell_type": "code",
   "execution_count": 21,
   "metadata": {},
   "outputs": [
    {
     "name": "stdout",
     "output_type": "stream",
     "text": [
      "the id: 9998\n",
      "end id: 9803\n"
     ]
    }
   ],
   "source": [
    "print (f'the id: {token2id[\"the\"]}')\n",
    "print (f'end id: {token2id[\"end\"]}')"
   ]
  },
  {
   "cell_type": "code",
   "execution_count": 22,
   "metadata": {},
   "outputs": [
    {
     "data": {
      "text/plain": [
       "104.0"
      ]
     },
     "execution_count": 22,
     "metadata": {},
     "output_type": "execute_result"
    }
   ],
   "source": [
    "co_matrix[token2id[\"the\"]][token2id[\"end\"]]"
   ]
  },
  {
   "cell_type": "markdown",
   "metadata": {},
   "source": [
    "__Answer__: The cooccurrence count of the words 'the' and 'end' is"
   ]
  },
  {
   "cell_type": "markdown",
   "metadata": {},
   "source": [
    "### Context Size Effect\n",
    "__b__. Plot the effect of varying context size in $\\{1, 2, 3, 4\\}$ (leaving all the other settings the same) on the quality of the learned word embeddings, as measured by performance (Spearman correlation) on the word similarity dataset [MTurk-771](http://www2.mta.ac.il/~gideon/mturk771.html) between human judgments and cosine similarity of the learned word vectors (see lab). [12 pts]"
   ]
  },
  {
   "cell_type": "markdown",
   "metadata": {},
   "source": [
    "#### Explanation\n",
    "\n",
    "To obtain the Spearman correlation between Mturk similarity data and cooccurrence matrix:\n",
    "\n",
    "Each token couple's similarity was determined by evaluating the cosine similarity of their corresponding rows on the cooccurrence matrix. For instance to calculate the similarity of \"word\" and \"token\":\n",
    "\n",
    "    * we look up the ids of \"word\" and \"token\" from the token2id dictionary, \n",
    "    * slice their rows from the cooccurrence matrix,\n",
    "    * measure the cosine similarity of those two vectors.\n",
    "    \n",
    "After this, we end up with a single scalar defining similarity between \"word\" and \"token\". We repeat the same thing for all the word couples present in the mturk dataset, and compute the correlation of two nx1 vectors.\n",
    "\n",
    "__Please see the plot below in this section.__\n",
    "\n",
    "__Cosine Similarity__ for vectors u and v is defined as:"
   ]
  },
  {
   "cell_type": "markdown",
   "metadata": {},
   "source": [
    "$$ \\left(\\frac{\\sum_{i=1}^{n} u_{i} \\cdot v_{i}}{\\|u\\|\\cdot \\|v\\|}\\right) $$"
   ]
  },
  {
   "cell_type": "code",
   "execution_count": 4,
   "metadata": {},
   "outputs": [],
   "source": [
    "def cosine_similarity(v1, v2):\n",
    "    co_sim = np.dot(v1, v2)/(norm(v1)*norm(v2))\n",
    "    return co_sim\n",
    "\n",
    "def get_similarity(token1, token2, mturk_df, \n",
    "                   token2id, cooccurrence_matrix):\n",
    "    \n",
    "    mturk_similarity = float(mturk_df[(mturk_df[\"word1\"]==token1)\\\n",
    "                                      &(mturk_df[\"word2\"]==token2)][\"similarity\"])\n",
    "    \n",
    "    keys = [*token2id.keys()]\n",
    "    \n",
    "    if token1 not in keys:\n",
    "        covector_1 = np.zeros((cooccurrence_matrix.shape[0],))\n",
    "    else:\n",
    "        covector_1 = cooccurrence_matrix[token2id[token1]]\n",
    "    \n",
    "    if token2 not in keys:\n",
    "        covector_2 = np.zeros((cooccurrence_matrix.shape[0],))\n",
    "    else:\n",
    "        covector_2 = cooccurrence_matrix[token2id[token2]]\n",
    "\n",
    "    co_similarity = cosine_similarity(covector_1, covector_2)\n",
    "    \n",
    "    return mturk_similarity, co_similarity"
   ]
  },
  {
   "cell_type": "code",
   "execution_count": 5,
   "metadata": {},
   "outputs": [],
   "source": [
    "mturk_data = pd.DataFrame(pd.read_csv(\"data/MTURK-771.csv\",header=None))\n",
    "mturk_data.columns = [\"word1\", \"word2\", \"similarity\"]"
   ]
  },
  {
   "cell_type": "code",
   "execution_count": 6,
   "metadata": {},
   "outputs": [],
   "source": [
    "def get_similarity_vector(similarity_df, \n",
    "                          token2id,\n",
    "                          comatrix):\n",
    "    \"\"\"Takes as input:\n",
    "    - Similarity df: mturk similarity dataset with columns:['word1','word2','similarity'],\n",
    "    - token2id: token2id vocabulary generated for sentence dataset,\n",
    "    - comatrix: cooccurrence matrix generated from sentence dataset.\n",
    "    \n",
    "    Returns:\n",
    "    - mturk similarity vector\n",
    "    - cosine similarity vector generated from the comatrix (cooccurrence matrix)\"\"\"\n",
    "    \n",
    "    num_ = similarity_df.shape[0]\n",
    "    sim_v = np.zeros((num_, 2))\n",
    "    \n",
    "    for i in range(num_):\n",
    "        sim_v[i,:] = get_similarity(similarity_df.iloc[i][\"word1\"], similarity_df.iloc[i][\"word2\"],\n",
    "                                    similarity_df, token2id, comatrix)\n",
    "        \n",
    "    sim_v = sim_v[np.where(np.isnan(sim_v)[:,1]==False)]\n",
    "        \n",
    "    return sim_v"
   ]
  },
  {
   "cell_type": "code",
   "execution_count": 26,
   "metadata": {},
   "outputs": [],
   "source": [
    "from scipy.stats import spearmanr\n",
    "\n",
    "def evaluate_spearman(v1, v2):\n",
    "    \"\"\"Takes as input:\n",
    "    - v1: vector of size nx1 (mturk similairty vector)\n",
    "    - v2: vector of size nx1 (sentence dataset similarity vector)\n",
    "    \n",
    "    Returns:\n",
    "    - Spearman Correlation between v1 and v2.\n",
    "    \"\"\"\n",
    "    s = spearmanr(v1, v2)\n",
    "    return s"
   ]
  },
  {
   "cell_type": "markdown",
   "metadata": {},
   "source": [
    "__Context Size = 1__"
   ]
  },
  {
   "cell_type": "code",
   "execution_count": 31,
   "metadata": {},
   "outputs": [
    {
     "name": "stderr",
     "output_type": "stream",
     "text": [
      "/Users/derin/miniconda3/lib/python3.6/site-packages/ipykernel_launcher.py:2: RuntimeWarning: invalid value encountered in double_scalars\n",
      "  \n"
     ]
    },
    {
     "data": {
      "text/plain": [
       "SpearmanrResult(correlation=0.0450713061232414, pvalue=0.43979008973141476)"
      ]
     },
     "execution_count": 31,
     "metadata": {},
     "output_type": "execute_result"
    }
   ],
   "source": [
    "token2id_c1, id2token_c1, co_matrix_c1 = build_cooccurrence_matrix(data_sentence, \n",
    "                                                                   max_vocab_size=10000, \n",
    "                                                                   context_size=1)\n",
    "similarity_c1 = get_similarity_vector(mturk_data, token2id_c1, co_matrix_c1)\n",
    "spearman_c1 = evaluate_spearman(similarity_c1[:,0], similarity_c1[:,1])\n",
    "\n",
    "spearman_c1"
   ]
  },
  {
   "cell_type": "markdown",
   "metadata": {},
   "source": [
    "__Context Size = 2__"
   ]
  },
  {
   "cell_type": "code",
   "execution_count": 32,
   "metadata": {},
   "outputs": [
    {
     "name": "stderr",
     "output_type": "stream",
     "text": [
      "/Users/derin/miniconda3/lib/python3.6/site-packages/ipykernel_launcher.py:2: RuntimeWarning: invalid value encountered in double_scalars\n",
      "  \n"
     ]
    },
    {
     "data": {
      "text/plain": [
       "SpearmanrResult(correlation=0.08582998433844517, pvalue=0.14071154144449793)"
      ]
     },
     "execution_count": 32,
     "metadata": {},
     "output_type": "execute_result"
    }
   ],
   "source": [
    "token2id_c2, id2token_c2, co_matrix_c2 = token2id, id2token, co_matrix\n",
    "similarity_c2 = get_similarity_vector(mturk_data, token2id_c2, co_matrix_c2)\n",
    "spearman_c2 = evaluate_spearman(similarity_c2[:,0], similarity_c2[:,1])\n",
    "\n",
    "spearman_c2"
   ]
  },
  {
   "cell_type": "markdown",
   "metadata": {},
   "source": [
    "__Context Size = 3__"
   ]
  },
  {
   "cell_type": "code",
   "execution_count": 35,
   "metadata": {},
   "outputs": [
    {
     "name": "stderr",
     "output_type": "stream",
     "text": [
      "/Users/derin/miniconda3/lib/python3.6/site-packages/ipykernel_launcher.py:2: RuntimeWarning: invalid value encountered in double_scalars\n",
      "  \n"
     ]
    },
    {
     "data": {
      "text/plain": [
       "SpearmanrResult(correlation=0.08563814153705145, pvalue=0.14160465475500314)"
      ]
     },
     "execution_count": 35,
     "metadata": {},
     "output_type": "execute_result"
    }
   ],
   "source": [
    "token2id_c3, id2token_c3, co_matrix_c3 = build_cooccurrence_matrix(data_sentence, \n",
    "                                                                   max_vocab_size=10000, \n",
    "                                                                   context_size=3)\n",
    "similarity_c3 = get_similarity_vector(mturk_data, token2id_c3, co_matrix_c3)\n",
    "spearman_c3 = evaluate_spearman(similarity_c3[:,0], similarity_c3[:,1])\n",
    "spearman_c3"
   ]
  },
  {
   "cell_type": "markdown",
   "metadata": {},
   "source": [
    "__Context Size = 4__"
   ]
  },
  {
   "cell_type": "code",
   "execution_count": 36,
   "metadata": {},
   "outputs": [
    {
     "name": "stderr",
     "output_type": "stream",
     "text": [
      "/Users/derin/miniconda3/lib/python3.6/site-packages/ipykernel_launcher.py:2: RuntimeWarning: invalid value encountered in double_scalars\n",
      "  \n"
     ]
    },
    {
     "data": {
      "text/plain": [
       "SpearmanrResult(correlation=0.1040173280300731, pvalue=0.07396016951421722)"
      ]
     },
     "execution_count": 36,
     "metadata": {},
     "output_type": "execute_result"
    }
   ],
   "source": [
    "token2id_c4, id2token_c4, co_matrix_c4 = build_cooccurrence_matrix(data_sentence, \n",
    "                                                                   max_vocab_size=10000,\n",
    "                                                                   context_size=4)\n",
    "similarity_c4 = get_similarity_vector(mturk_data, token2id_c4, co_matrix_c4)\n",
    "spearman_c4 = evaluate_spearman(similarity_c4[:,0], similarity_c4[:,1])\n",
    "spearman_c4"
   ]
  },
  {
   "cell_type": "markdown",
   "metadata": {},
   "source": [
    "### Plot"
   ]
  },
  {
   "cell_type": "code",
   "execution_count": 37,
   "metadata": {},
   "outputs": [
    {
     "data": {
      "text/plain": [
       "<matplotlib.legend.Legend at 0x1e564b1908>"
      ]
     },
     "execution_count": 37,
     "metadata": {},
     "output_type": "execute_result"
    },
    {
     "data": {
      "image/png": "[encoded data removed]",
      "text/plain": [
       "<Figure size 1440x720 with 1 Axes>"
      ]
     },
     "metadata": {
      "needs_background": "light"
     },
     "output_type": "display_data"
    }
   ],
   "source": [
    "s = [spearman_c1, spearman_c2, spearman_c3, spearman_c4]\n",
    "c = range(1,5)\n",
    "plt.figure(figsize=(20,10))\n",
    "plt.plot(c, [x[0] for x in s], linewidth=3.5, alpha=0.6,\n",
    "         label=\"Spearman Corr\", marker=\"o\", markersize=10)\n",
    "\n",
    "plt.rcParams[\"font.size\"] = 16\n",
    "plt.xlabel(\"Context Size\")\n",
    "plt.ylabel(\"Spearman Correlation\")\n",
    "plt.title(\"Correlation for Varying Context Size\")\n",
    "\n",
    "plt.grid()\n",
    "plt.legend()"
   ]
  },
  {
   "cell_type": "markdown",
   "metadata": {},
   "source": [
    "## Discussion"
   ]
  },
  {
   "cell_type": "markdown",
   "metadata": {},
   "source": [
    "__c__. Briefly discuss the pros and cons of varying \n",
    "\n",
    "    I.  the context size \n",
    "    II.  the vocabulary size \n",
    "    III. using bigrams instead of unigrams \n",
    "    IV. using subword tokens instead of words. [8 pts]"
   ]
  },
  {
   "cell_type": "markdown",
   "metadata": {},
   "source": [
    "### Answer"
   ]
  },
  {
   "cell_type": "markdown",
   "metadata": {},
   "source": [
    "__I. Context Size__\n",
    "\n",
    "As it can be seen on the above plot, increasing context size while constructing the cooccurrence matrix from the sentence data results in higher Spearman correlation between the MTurk similarity data and the similarity vector we have obtained. Below is a discussion of the pros and cons of increasing context size. \n",
    "\n",
    "__Pros__:\n",
    "  - It allows us to obtain a more __semantic__, rather than __syntactic__, representation of tokens. For example \"and\" and \"the\" occur in the same context very frequently, and this informs us about the syntactic structure of the text. However one occurring in the context does not provide us with information about the other token's meaning. A more semantic representation can be obtained by increasing the context size. \n",
    "  - For a given vocabulary size, increasing context size will result in a more dense and intrinsically informative co-occurrence matrix (that does not require much smoothing etc.). \n",
    "  \n",
    "__Cons__:\n",
    "  - Too large context size may result in a skewed distribution of co-occurrences. "
   ]
  },
  {
   "cell_type": "markdown",
   "metadata": {},
   "source": [
    "__II. Vocabulary Size__\n",
    "\n",
    "__Pros__:\n",
    "- Increasing vocabulary size will result in a __higher-dimensional representation__ for each token, which should lead to word embeddings that can capture more information. \n",
    "\n",
    "__Cons__: \n",
    "- As increasing the vocabulary size results in higher-dimensional representations, it will automatically increase the __memory cost__ of the application. \n",
    "- Once we increase the vocabulary size, less frequent tokens will be a part of the vocabulart and there will be a higher probability of some tokens not occuring at all in each other's context. This will lead to __sparse co-occurrence matrices__ for a given context size."
   ]
  },
  {
   "cell_type": "markdown",
   "metadata": {},
   "source": [
    "__III. Using Bigrams__\n",
    "\n",
    "The effect of varying the n-gram setting depends highly on the __application area__. Therefore, I tried to gather more area-independent pros and cons that I had come up with. \n",
    "\n",
    "__Pros__:\n",
    "- Since bigrams are likely to be semantically more informative than unigrams, using bigrams should result in better vector representations. \n",
    "- Using bigrams might help the model deal with tokens that have __multiple meanings__. In other words, it can make easier for the model to differentiate among multiple meanings. \n",
    "\n",
    "__Cons__: \n",
    "- The co-occurrence chance of bigrams will be lower than unigrams, therefore this will result in a more __sparse__ co-occurrence matrix. \n",
    "- If we are not usings unigrams at all, and using only bigrams, this would make dealing with synonyms harder since the individual representations of the synonyms are no longer available and the model might not be able to assess whether two words are interchangeable or not. "
   ]
  },
  {
   "cell_type": "markdown",
   "metadata": {},
   "source": [
    "__IV. Using Subword Tokens__\n",
    "\n",
    "__Pros__:\n",
    "- Using subword tokens, instead of inflected forms or wordforms, will result in __less sparse__ representations, since different forms of the same word will appear as the same token in the vocabulary. \n",
    "\n",
    "__Cons__:\n",
    "- There might be some words that appear with specific wordforms and therefore replacing those wordforms with subword tokens could result in information loss. "
   ]
  },
  {
   "cell_type": "markdown",
   "metadata": {},
   "source": [
    "## Part 2: Pointwise Mutual Information [20 pts]"
   ]
  },
  {
   "cell_type": "markdown",
   "metadata": {},
   "source": [
    "In lecture, we introduced __pointwise mutual information__ (PMI), which addresses the issue of normalization removing information about absolute magnitudes of counts. The PMI for word $\\times$ context pair $(w,c)$ is \n",
    "\n",
    "$$\\log\\left(\\frac{P(w,c)}{P(w) \\cdot P(c)}\\right)$$\n",
    "\n",
    "with $\\log(0) = 0$. This is a measure of how far that cell's value deviates from what we would expect given the row and column sums for that cell."
   ]
  },
  {
   "cell_type": "markdown",
   "metadata": {},
   "source": [
    "### PMI\n",
    "\n",
    "__a__. Implement `pmi`, a function which takes in a co-occurence matrix and returns the matrix with PMI normalization applied. [15 pts]"
   ]
  },
  {
   "cell_type": "code",
   "execution_count": 38,
   "metadata": {},
   "outputs": [],
   "source": [
    "def pmi(mat):\n",
    "    \n",
    "    \"\"\"Pointwise mutual information\n",
    "    \n",
    "    args:\n",
    "        - mat: 2d np.array to apply PMI (matrix that holds raw cooccurrence counts)\n",
    "        \n",
    "    returns:\n",
    "        - pmi_mat: matrix of same shape with PMI applied\n",
    "    \"\"\"    \n",
    "    # p(w,c)\n",
    "    mat_p = np.divide(mat, np.sum(mat))\n",
    "    \n",
    "    # p(w), p(c)\n",
    "    p_w, p_c = np.sum(mat_p, 1), np.sum(mat_p, 0)\n",
    "\n",
    "    # construct p(w)*p(c)\n",
    "    d = np.outer(p_c, p_w)\n",
    "    \n",
    "    mat_p = np.divide(mat_p, d.T)\n",
    "    \n",
    "    # p(w,c)/p(w)*p(c)\n",
    "    pmi_mat = np.log2(mat_p)\n",
    "    \n",
    "    # assume log(0) = 0\n",
    "    np.place(pmi_mat, pmi_mat==-np.inf, 0)\n",
    "    \n",
    "    return pmi_mat"
   ]
  },
  {
   "cell_type": "markdown",
   "metadata": {},
   "source": [
    "Apply PMI to the co-occurence matrix computed above with `context_size=1`. What is the PMI between the words \"the\" and \"end\"?"
   ]
  },
  {
   "cell_type": "code",
   "execution_count": 39,
   "metadata": {},
   "outputs": [
    {
     "name": "stderr",
     "output_type": "stream",
     "text": [
      "/Users/derin/miniconda3/lib/python3.6/site-packages/ipykernel_launcher.py:23: RuntimeWarning: divide by zero encountered in log2\n"
     ]
    }
   ],
   "source": [
    "pmi_c1 = pmi(co_matrix_c1)\n",
    "# pmi_c2 = pmi(co_matrix_c2)\n",
    "# pmi_c3 = pmi(co_matrix_c3)\n",
    "# pmi_c4 = pmi(co_matrix_c4)"
   ]
  },
  {
   "cell_type": "markdown",
   "metadata": {},
   "source": [
    "#### Answer"
   ]
  },
  {
   "cell_type": "code",
   "execution_count": 41,
   "metadata": {},
   "outputs": [
    {
     "name": "stdout",
     "output_type": "stream",
     "text": [
      "PMI of the words the and end is : 2.3773891645927585\n"
     ]
    }
   ],
   "source": [
    "print (f'PMI of the words the and end is : {pmi_c1[token2id_c1[\"the\"], token2id_c1[\"end\"]]}')"
   ]
  },
  {
   "cell_type": "markdown",
   "metadata": {},
   "source": [
    "### PPMI"
   ]
  },
  {
   "cell_type": "markdown",
   "metadata": {},
   "source": [
    "__b__. We also consider an extension of PMI, positive PMI (PPMI), that maps all negative PMI values to 0.0 ([Levy and Goldberg 2014](http://papers.nips.cc/paper/5477-neural-word-embedding-as-implicit-matrix-factorization)). \n",
    "Write `ppmi`, which is the same as `pmi` except it applies PPMI instead of PMI (feel free to implement it as an option of `pmi`). What is the PMI of the words \"the\" and \"start\"? The PPMI? [5 pts]"
   ]
  },
  {
   "cell_type": "code",
   "execution_count": 42,
   "metadata": {},
   "outputs": [],
   "source": [
    "def pmi(mat, ppmi = False):\n",
    "    \n",
    "    \"\"\"Pointwise mutual information\n",
    "    \n",
    "    args:\n",
    "        - mat: 2d np.array to apply PMI (matrix that holds raw cooccurrence counts)\n",
    "        \n",
    "    returns:\n",
    "        - pmi_mat: matrix of same shape with PMI applied\n",
    "    \"\"\"    \n",
    "    \n",
    "    # p(w,d)\n",
    "    mat_p = np.divide(mat, np.sum(mat))\n",
    "    \n",
    "    # p(w), p(d)\n",
    "    p_w, p_d = np.sum(mat_p, 1), np.sum(mat_p, 0)\n",
    "    \n",
    "    # p(w)*p(d)\n",
    "    d = np.outer(p_d, p_w)\n",
    "    \n",
    "    # p(w,d)/p(w)*p(d)\n",
    "    pmi_mat = np.log(np.divide(mat_p, d.T))\n",
    "    \n",
    "    # assume log(0) = 0\n",
    "    np.place(pmi_mat, pmi_mat==-np.inf, 0)\n",
    "    \n",
    "    if ppmi:\n",
    "        np.place(pmi_mat, pmi_mat<0, 0)\n",
    "    \n",
    "    return pmi_mat"
   ]
  },
  {
   "cell_type": "code",
   "execution_count": 43,
   "metadata": {},
   "outputs": [
    {
     "name": "stderr",
     "output_type": "stream",
     "text": [
      "/Users/derin/miniconda3/lib/python3.6/site-packages/ipykernel_launcher.py:22: RuntimeWarning: divide by zero encountered in log\n"
     ]
    }
   ],
   "source": [
    "ppmi_c1 = pmi(co_matrix_c1, ppmi=True)"
   ]
  },
  {
   "cell_type": "markdown",
   "metadata": {},
   "source": [
    "#### Answer"
   ]
  },
  {
   "cell_type": "code",
   "execution_count": 46,
   "metadata": {},
   "outputs": [
    {
     "name": "stdout",
     "output_type": "stream",
     "text": [
      "The PMI of the words the and start is 0.25721719834754625\n",
      "The PPMI of the words the and start is 0.17828937582612991\n"
     ]
    }
   ],
   "source": [
    "print (f'The PMI of the words the and start is {pmi_c1[token2id_c1[\"the\"], token2id_c1[\"start\"]]}')\n",
    "print (f'The PPMI of the words the and start is {ppmi_c1[token2id_c1[\"the\"], token2id_c1[\"start\"]]}')\n",
    "# ppmi_c1[token2id_c1[\"the\"], token2id_c1[\"start\"]]"
   ]
  },
  {
   "cell_type": "markdown",
   "metadata": {},
   "source": [
    "## Part 3: Analyzing PMI [25 pts]"
   ]
  },
  {
   "cell_type": "markdown",
   "metadata": {},
   "source": [
    "### Reweight Matrix\n",
    "\n",
    "__a__. Consider the matrix `np.array([[1.0, 0.0, 0.0], [1000.0, 1000.0, 4000.0], [1000.0, 2000.0, 999.0]])`. Reweight this matrix using `ppmi`. \n",
    "\n",
    "    I. What is the value obtained for cell `[0,0]`, and \n",
    "    II. (ii) give a brief description for what is likely problematic about this value. [10 pts]"
   ]
  },
  {
   "cell_type": "code",
   "execution_count": 47,
   "metadata": {},
   "outputs": [],
   "source": [
    "mat = np.array([[1.0, 0.0, 0.0], [1000.0, 1000.0, 4000.0], [1000.0, 2000.0, 999.0]])"
   ]
  },
  {
   "cell_type": "code",
   "execution_count": 48,
   "metadata": {},
   "outputs": [
    {
     "name": "stderr",
     "output_type": "stream",
     "text": [
      "/Users/derin/miniconda3/lib/python3.6/site-packages/ipykernel_launcher.py:22: RuntimeWarning: divide by zero encountered in log\n"
     ]
    }
   ],
   "source": [
    "ppmi_mat = pmi(mat=mat, ppmi=True)"
   ]
  },
  {
   "cell_type": "code",
   "execution_count": 49,
   "metadata": {},
   "outputs": [
    {
     "data": {
      "text/plain": [
       "array([[1.60893804, 0.        , 0.        ],\n",
       "       [0.        , 0.        , 0.28788209],\n",
       "       [0.22289371, 0.51107566, 0.        ]])"
      ]
     },
     "execution_count": 49,
     "metadata": {},
     "output_type": "execute_result"
    }
   ],
   "source": [
    "ppmi_mat"
   ]
  },
  {
   "cell_type": "code",
   "execution_count": 52,
   "metadata": {},
   "outputs": [
    {
     "name": "stdout",
     "output_type": "stream",
     "text": [
      "The value on the cell [0,0]: 1.6089380373924496. This is largest cell in the matrix and greater than 1 as opposed to all other cells.\n"
     ]
    }
   ],
   "source": [
    "print (f'The value on the cell [0,0]: {ppmi_mat[0,0]}.\\\n",
    " This is largest cell in the matrix and greater than 1 as opposed to all other cells.')"
   ]
  },
  {
   "cell_type": "markdown",
   "metadata": {},
   "source": [
    "As we see on the cell right above, the problematic value is 1.608938 on the cell [0,0]. This cell has a much higher value because PMI is __biased toward rare occurrences__, and weighting the matrix using it cuases that value to inflate. "
   ]
  },
  {
   "cell_type": "markdown",
   "metadata": {},
   "source": [
    "### Dealing with the Problematic Value\n",
    "__b__. Give a suggestion for dealing with the problematic value and explain why it deals with this. Demonstrate your suggestion empirically [10 pts]\n",
    "\n",
    "__Answer__\n",
    "The possible solutions are:\n",
    " - Assigning a __minimum probability__ to context words. For example raising the 0 values in the P(c) vector to some value between 0 and 1.\n",
    " - Directly __adding values to the raw co-occurrence matrix__. This should have the same smoothing effect on the weighted matrix. "
   ]
  },
  {
   "cell_type": "markdown",
   "metadata": {},
   "source": [
    "### PMI for Word-Word Co-occurence Matrix\n",
    "__c__. Consider starting with a word-word co-occurence matrix and apply PMI to this matrix. \n",
    "\n",
    "        I. Which of the following describe the resulting vectors: sparse, dense, high-dimensional, low-dimensional\n",
    "         \n",
    "        II. If you wanted the opposite style of representation, what could you do? [5 pts]\n"
   ]
  },
  {
   "cell_type": "markdown",
   "metadata": {},
   "source": [
    "#### Answer\n",
    "\n",
    "__I.__ When we start with a word-word co-occurrence matrix, the resulting vectors will be __sparse__ and __high-dimensional__ (depending on the vocabulary size). \n",
    "\n",
    "__II.__ Some ways to achieve dense, low-dimensional vectors:\n",
    " - Using Singular Value Decomposition (SVD) will help decrease the dimensionality\n",
    " - Using Brown clusters to decrease sparsity\n",
    " - Updating the vector representations directly with a neural network-based model."
   ]
  },
  {
   "cell_type": "markdown",
   "metadata": {},
   "source": [
    "## Part 4: Word Analogy Evaluation [25 pts]"
   ]
  },
  {
   "cell_type": "markdown",
   "metadata": {},
   "source": [
    "Word analogies provide another kind of evaluation for distributed representations. Here, we are given three vectors A, B, and C, in the relationship\n",
    "\n",
    "_A is to B as C is to __ _\n",
    "\n",
    "and asked to identify the fourth that completes the analogy. These analogies are by and large substantially easier than the classic brain-teaser analogies that used to appear on tests like the SAT, but it's still an interesting, demanding\n",
    "task. \n",
    "\n",
    "The core idea is that we make predictions by creating the vector\n",
    "\n",
    "$$(B - A) + C$$ \n",
    "\n",
    "and then ranking all vectors based on their distance from this new vector, choosing the closest as our prediction."
   ]
  },
  {
   "cell_type": "markdown",
   "metadata": {},
   "source": [
    "### Analogy Completion\n",
    "__a__. Implement the function `analogy_completion`. [9 pts]"
   ]
  },
  {
   "cell_type": "code",
   "execution_count": 7,
   "metadata": {},
   "outputs": [],
   "source": [
    "def analogy_completion(a, b, c, mat,\n",
    "                       token2id, id2token,\n",
    "                       remove_original=False,\n",
    "                       ppmi=False,\n",
    "                       similarity=\"cosine\"):\n",
    "    \"\"\"Compute ? in \n",
    "    a is to b as c is to ? \n",
    "    as the closest to (b-a) + c in terms of cosine distance\n",
    "    \n",
    "    a, b, & c are tokens (string)\n",
    "    \n",
    "    similarity: 'cosine' or 'euclidean'\n",
    "    \"\"\"\n",
    "    \n",
    "    if ppmi:\n",
    "        pmi_mat = pmi(mat, ppmi=True)\n",
    "    else:\n",
    "        pmi_mat = mat\n",
    "    \n",
    "    index_a, index_b, index_c = token2id[a], token2id[b], token2id[c]\n",
    "    \n",
    "    # obtain vectors from pmi-normalized cooccurrence matrix\n",
    "    v_a = pmi_mat[index_a]\n",
    "    v_b = pmi_mat[index_b]\n",
    "    v_c = pmi_mat[index_c]\n",
    "    \n",
    "    # d: b - a + c \n",
    "    v_n = v_b - v_a + v_c\n",
    "    \n",
    "    cs = []\n",
    "    \n",
    "    if similarity == \"cosine\":\n",
    "        for i in range(pmi_mat.shape[0]):\n",
    "            cs.append(cosine_similarity(v_n, pmi_mat[i]))\n",
    "        srt = np.argsort(cs)\n",
    "    \n",
    "    elif similarity == \"euclidean\":\n",
    "        for i in range(pmi_mat.shape[0]):\n",
    "            cs.append(euclidean(v_n, pmi_mat[i]))\n",
    "        srt = np.argsort((-1)*np.array(cs))\n",
    "    \n",
    "    if remove_original:\n",
    "        mask = [x not in [index_a, index_b, index_c] for x in srt]\n",
    "        srt = srt[mask]\n",
    "        ix = srt[0]\n",
    "        d = pmi_mat[ix]\n",
    "    else:\n",
    "        ix = srt[0]\n",
    "        d = pmi_mat[ix]\n",
    "    \n",
    "    return d, ix, id2token[ix]"
   ]
  },
  {
   "cell_type": "code",
   "execution_count": 9,
   "metadata": {},
   "outputs": [],
   "source": [
    "d, ix, token = analogy_completion(\"theater\", \"art\", \"football\", \n",
    "                                  co_matrix_c2, token2id_c2, id2token_c2, \n",
    "                                  remove_original=True, ppmi=False, similarity=\"cosine\")"
   ]
  },
  {
   "cell_type": "code",
   "execution_count": 55,
   "metadata": {},
   "outputs": [
    {
     "data": {
      "text/plain": [
       "'lobby'"
      ]
     },
     "execution_count": 55,
     "metadata": {},
     "output_type": "execute_result"
    }
   ],
   "source": [
    "token"
   ]
  },
  {
   "cell_type": "markdown",
   "metadata": {},
   "source": [
    "### GloVe\n",
    "__b__. Our simple word embeddings likely won't perform well on this task. Let's instead look at some high quality pretrained word embeddings. Write code to load 300-dimensional [GloVe word embeddings](http://nlp.stanford.edu/data/glove.840B.300d.zip) trained on 840B tokens. Each line of the file is formatted as a word followed by 300 floats that make up its corresponding word embedding (all space delimited). The entries of GloVe word embeddings are not counts, but instead are learned via machine learning. Use your `analogy_completion` code to complete the following analogies using the GloVe word embeddings. [6 pts]"
   ]
  },
  {
   "cell_type": "markdown",
   "metadata": {},
   "source": [
    "- \"Beijing\" is to \"China\" as \"Paris\" is to ?\n",
    "- \"gold\" is to \"first\" as \"silver\" is to ?\n",
    "- \"Italian\" is to \"mozzarella\" as \"American\" is to ?\n",
    "- \"research\" is to \"fun\" as \"engineering\" is to ?"
   ]
  },
  {
   "cell_type": "code",
   "execution_count": 10,
   "metadata": {},
   "outputs": [],
   "source": [
    "from scipy.spatial.distance import euclidean"
   ]
  },
  {
   "cell_type": "code",
   "execution_count": 11,
   "metadata": {},
   "outputs": [],
   "source": [
    "def load_vectors(fname):\n",
    "    f = open(fname,\"r\")\n",
    "    glove = {}\n",
    "    for line in f:\n",
    "        s = line.split(\" \")\n",
    "        word = s[0]\n",
    "        embedding = np.array([float(val) for val in s[1:]])\n",
    "        glove[word] = embedding\n",
    "    return glove"
   ]
  },
  {
   "cell_type": "code",
   "execution_count": 12,
   "metadata": {},
   "outputs": [],
   "source": [
    "glove = load_vectors(\"data/glove_vec/glove.840B.300d.txt\")"
   ]
  },
  {
   "cell_type": "code",
   "execution_count": 13,
   "metadata": {},
   "outputs": [],
   "source": [
    "def token2id_glove(embed_dict):\n",
    "    keys = [*embed_dict.keys()]\n",
    "    token2id = {}\n",
    "    \n",
    "    for i in range(len(keys)):\n",
    "        token2id[keys[i]] = i\n",
    "        \n",
    "    return token2id\n",
    "\n",
    "def id2token_glove(embed_dict, token2id):\n",
    "    keys = [*token2id.keys()]\n",
    "    id2token = {}\n",
    "    \n",
    "    for i in range(len(keys)):\n",
    "        id2token[i] = keys[i]\n",
    "        \n",
    "    return id2token\n",
    "\n",
    "def glove_mat(embed_dict, id2token):\n",
    "    edge = len([*embed_dict.keys()])\n",
    "    mat = np.zeros((edge, 300))\n",
    "    \n",
    "    for i in range(edge):\n",
    "        mat[i] = embed_dict[id2token[i]]\n",
    "        \n",
    "    return mat"
   ]
  },
  {
   "cell_type": "code",
   "execution_count": 14,
   "metadata": {},
   "outputs": [],
   "source": [
    "token2idGlove = token2id_glove(glove)"
   ]
  },
  {
   "cell_type": "code",
   "execution_count": 15,
   "metadata": {},
   "outputs": [
    {
     "data": {
      "text/plain": [
       "3"
      ]
     },
     "execution_count": 15,
     "metadata": {},
     "output_type": "execute_result"
    }
   ],
   "source": [
    "token2idGlove[\"and\"]"
   ]
  },
  {
   "cell_type": "code",
   "execution_count": 16,
   "metadata": {},
   "outputs": [],
   "source": [
    "id2tokenGlove = id2token_glove(glove, token2idGlove)"
   ]
  },
  {
   "cell_type": "code",
   "execution_count": 17,
   "metadata": {},
   "outputs": [
    {
     "data": {
      "text/plain": [
       "'and'"
      ]
     },
     "execution_count": 17,
     "metadata": {},
     "output_type": "execute_result"
    }
   ],
   "source": [
    "id2tokenGlove[3]"
   ]
  },
  {
   "cell_type": "code",
   "execution_count": 18,
   "metadata": {},
   "outputs": [],
   "source": [
    "gloveMat = glove_mat(glove, id2tokenGlove)"
   ]
  },
  {
   "cell_type": "code",
   "execution_count": 19,
   "metadata": {},
   "outputs": [
    {
     "data": {
      "text/plain": [
       "True"
      ]
     },
     "execution_count": 19,
     "metadata": {},
     "output_type": "execute_result"
    }
   ],
   "source": [
    "all(gloveMat[3] == glove[\"and\"])"
   ]
  },
  {
   "cell_type": "markdown",
   "metadata": {},
   "source": [
    "#### \"Beijing\" is to \"China\" as \"Paris\" is to ?"
   ]
  },
  {
   "cell_type": "code",
   "execution_count": 66,
   "metadata": {},
   "outputs": [],
   "source": [
    "d, ix, token = analogy_completion(\"Beijing\", \"China\", \"Paris\", \n",
    "                                  gloveMat, token2idGlove, id2tokenGlove, \n",
    "                                  remove_original=True, ppmi=False, similarity=\"cosine\")"
   ]
  },
  {
   "cell_type": "code",
   "execution_count": 67,
   "metadata": {},
   "outputs": [
    {
     "data": {
      "text/plain": [
       "'most-excellent'"
      ]
     },
     "execution_count": 67,
     "metadata": {},
     "output_type": "execute_result"
    }
   ],
   "source": [
    "token"
   ]
  },
  {
   "cell_type": "code",
   "execution_count": 68,
   "metadata": {},
   "outputs": [],
   "source": [
    "d, ix, token = analogy_completion(\"Beijing\", \"China\", \"Paris\", \n",
    "                                  gloveMat, token2idGlove, id2tokenGlove, \n",
    "                                  remove_original=True, ppmi=False, similarity=\"euclidean\")"
   ]
  },
  {
   "cell_type": "code",
   "execution_count": 69,
   "metadata": {},
   "outputs": [
    {
     "data": {
      "text/plain": [
       "'Extra-person'"
      ]
     },
     "execution_count": 69,
     "metadata": {},
     "output_type": "execute_result"
    }
   ],
   "source": [
    "token"
   ]
  },
  {
   "cell_type": "markdown",
   "metadata": {},
   "source": [
    "#### \"gold\" is to \"first\" as \"silver\" is to ?"
   ]
  },
  {
   "cell_type": "code",
   "execution_count": 70,
   "metadata": {},
   "outputs": [],
   "source": [
    "d, ix, token = analogy_completion(\"gold\", \"first\", \"silver\", \n",
    "                                  gloveMat, token2idGlove, id2tokenGlove, \n",
    "                                  remove_original=True, ppmi=False, similarity=\"cosine\")"
   ]
  },
  {
   "cell_type": "code",
   "execution_count": 71,
   "metadata": {},
   "outputs": [
    {
     "data": {
      "text/plain": [
       "'News-ID'"
      ]
     },
     "execution_count": 71,
     "metadata": {},
     "output_type": "execute_result"
    }
   ],
   "source": [
    "token"
   ]
  },
  {
   "cell_type": "markdown",
   "metadata": {},
   "source": [
    "#### \"Italian\" is to \"mozzarella\" as \"American\" is to ?"
   ]
  },
  {
   "cell_type": "code",
   "execution_count": 74,
   "metadata": {},
   "outputs": [],
   "source": [
    "d, ix, token = analogy_completion(\"Italian\", \"mozzarella\", \"American\", \n",
    "                                  gloveMat, token2idGlove, id2tokenGlove, \n",
    "                                  remove_original=True, ppmi=False, similarity=\"cosine\")"
   ]
  },
  {
   "cell_type": "code",
   "execution_count": 75,
   "metadata": {},
   "outputs": [
    {
     "data": {
      "text/plain": [
       "'mrightOnly'"
      ]
     },
     "execution_count": 75,
     "metadata": {},
     "output_type": "execute_result"
    }
   ],
   "source": [
    "token"
   ]
  },
  {
   "cell_type": "markdown",
   "metadata": {},
   "source": [
    "#### \"research\" is to \"fun\" as \"engineering\" is to ?"
   ]
  },
  {
   "cell_type": "code",
   "execution_count": 78,
   "metadata": {},
   "outputs": [],
   "source": [
    "d, ix, token = analogy_completion(\"research\", \"fun\", \"engineering\", \n",
    "                                  gloveMat, token2idGlove, id2tokenGlove, \n",
    "                                  remove_original=True, ppmi=False, similarity=\"cosine\")"
   ]
  },
  {
   "cell_type": "code",
   "execution_count": 79,
   "metadata": {},
   "outputs": [
    {
     "data": {
      "text/plain": [
       "'insuranceholistic'"
      ]
     },
     "execution_count": 79,
     "metadata": {},
     "output_type": "execute_result"
    }
   ],
   "source": [
    "token"
   ]
  },
  {
   "cell_type": "markdown",
   "metadata": {},
   "source": [
    "### Evaluate GloVe\n",
    "c. Let's get a more quantitative, aggregate sense of the quality of GloVe embeddings. Load the analogies from `gram6-nationality-adjective.txt` and evaluate GloVe embeddings. Report the mean reciprocal rank of the correct answer (the last word on each line) for each analogy. [10 pts]"
   ]
  },
  {
   "cell_type": "markdown",
   "metadata": {},
   "source": [
    "__Solution__"
   ]
  },
  {
   "cell_type": "code",
   "execution_count": 20,
   "metadata": {},
   "outputs": [],
   "source": [
    "def load_analogies(fname):\n",
    "    f = open(fname,\"r\")\n",
    "    analogies = {}\n",
    "    c = 0\n",
    "    for line in f:\n",
    "        s = line.replace(\"\\n\",\"\").split(\" \")\n",
    "        analogies[c] = [s[0], s[1], s[2], s[3]]\n",
    "        c += 1\n",
    "    return pd.DataFrame(analogies).T"
   ]
  },
  {
   "cell_type": "code",
   "execution_count": 21,
   "metadata": {},
   "outputs": [],
   "source": [
    "analogy_df = pd.DataFrame(load_analogies(\"data/gram6-nationality-adjective.txt\"))\n",
    "analogy_df.columns = [\"country1\", \"adj1\", \"country2\", \"adj2\"]"
   ]
  },
  {
   "cell_type": "code",
   "execution_count": 22,
   "metadata": {},
   "outputs": [
    {
     "data": {
      "text/html": [
       "<div>\n",
       "<style scoped>\n",
       "    .dataframe tbody tr th:only-of-type {\n",
       "        vertical-align: middle;\n",
       "    }\n",
       "\n",
       "    .dataframe tbody tr th {\n",
       "        vertical-align: top;\n",
       "    }\n",
       "\n",
       "    .dataframe thead th {\n",
       "        text-align: right;\n",
       "    }\n",
       "</style>\n",
       "<table border=\"1\" class=\"dataframe\">\n",
       "  <thead>\n",
       "    <tr style=\"text-align: right;\">\n",
       "      <th></th>\n",
       "      <th>country1</th>\n",
       "      <th>adj1</th>\n",
       "      <th>country2</th>\n",
       "      <th>adj2</th>\n",
       "    </tr>\n",
       "  </thead>\n",
       "  <tbody>\n",
       "    <tr>\n",
       "      <th>0</th>\n",
       "      <td>albania</td>\n",
       "      <td>albanian</td>\n",
       "      <td>argentina</td>\n",
       "      <td>argentinean</td>\n",
       "    </tr>\n",
       "    <tr>\n",
       "      <th>1</th>\n",
       "      <td>albania</td>\n",
       "      <td>albanian</td>\n",
       "      <td>australia</td>\n",
       "      <td>australian</td>\n",
       "    </tr>\n",
       "    <tr>\n",
       "      <th>2</th>\n",
       "      <td>albania</td>\n",
       "      <td>albanian</td>\n",
       "      <td>austria</td>\n",
       "      <td>austrian</td>\n",
       "    </tr>\n",
       "  </tbody>\n",
       "</table>\n",
       "</div>"
      ],
      "text/plain": [
       "  country1      adj1   country2         adj2\n",
       "0  albania  albanian  argentina  argentinean\n",
       "1  albania  albanian  australia   australian\n",
       "2  albania  albanian    austria     austrian"
      ]
     },
     "execution_count": 22,
     "metadata": {},
     "output_type": "execute_result"
    }
   ],
   "source": [
    "analogy_df.head(3)"
   ]
  },
  {
   "cell_type": "code",
   "execution_count": 23,
   "metadata": {},
   "outputs": [
    {
     "data": {
      "text/plain": [
       "(2196016, 300)"
      ]
     },
     "execution_count": 23,
     "metadata": {},
     "output_type": "execute_result"
    }
   ],
   "source": [
    "gloveMat.shape"
   ]
  },
  {
   "cell_type": "code",
   "execution_count": 24,
   "metadata": {},
   "outputs": [],
   "source": [
    "norm_glove = [norm(x) for x in gloveMat]"
   ]
  },
  {
   "cell_type": "code",
   "execution_count": 25,
   "metadata": {},
   "outputs": [
    {
     "data": {
      "text/plain": [
       "2196016"
      ]
     },
     "execution_count": 25,
     "metadata": {},
     "output_type": "execute_result"
    }
   ],
   "source": [
    "len(norm_glove)"
   ]
  },
  {
   "cell_type": "code",
   "execution_count": 124,
   "metadata": {},
   "outputs": [],
   "source": [
    "def analogy_evaluation(glove_vecs,\n",
    "                       token2id,\n",
    "                       verbose=False,\n",
    "                       distfunc=\"cosine\",\n",
    "                       fname=\"data/gram6-nationality-adjective.txt\",\n",
    "                       first=180):\n",
    "    \n",
    "    \"\"\"Basic analogies evaluation.\n",
    "    \n",
    "    Parameters\n",
    "    ----------    \n",
    "    glove_vecs : 2d np.array\n",
    "                 The VSM being evaluated.\n",
    "                 \n",
    "    fname : str, 'data/gram6-nationality-adjective.txt'\n",
    "        \n",
    "    token2id : token2id vocab for glove matrix.\n",
    "        \n",
    "    distfunc : cosine by default, other options not yet implemented\n",
    "    \n",
    "    first : int, pass n < num_analogies to evaluate first n rows\n",
    "    \n",
    "    Returns\n",
    "    -------\n",
    "    (float, float)\n",
    "        MRR: The first is the mean reciprocal rank of the predictions and \n",
    "        ACC: the second is the accuracy of the predictions.\n",
    "    \n",
    "    \"\"\"\n",
    "    \n",
    "    rr = []\n",
    "    similarity = {}\n",
    "    preds = []\n",
    "    pred_vecs = []\n",
    "    \n",
    "    test_df = load_analogies(fname).iloc[:first]\n",
    "    test_df.columns = [\"country1\", \"adj1\", \"country2\", \"adj2\"]\n",
    "    targets = [token2id[x] for x in [*test_df[\"adj2\"]]]\n",
    "    \n",
    "    for i in range(test_df.shape[0]):\n",
    "        a1 = glove_vecs[token2id[test_df.iloc[i][\"adj1\"]]]\n",
    "        c1 = glove_vecs[token2id[test_df.iloc[i][\"country1\"]]]\n",
    "        c2 = glove_vecs[token2id[test_df.iloc[i][\"country2\"]]]\n",
    "        target_index = token2id[test_df.iloc[i][\"adj2\"]]\n",
    "        pred_v = a1 - c1 + c2 # (b - a) + c\n",
    "        norm_pred = norm(pred_v)\n",
    "        dots = [np.dot(pred_v, glove_vecs[g]) for g in range(glove_vecs.shape[0])]\n",
    "        similarity[i] = [dots[g]/(norm_pred*norm_glove[g]) for g in range(len(norm_glove))]\n",
    "        original_index = np.array([token2id[test_df.iloc[i][\"adj1\"]],\n",
    "                                   token2id[test_df.iloc[i][\"country1\"]],\n",
    "                                   token2id[test_df.iloc[i][\"country2\"]]])\n",
    "        \n",
    "        rank = [*np.arange(glove_vecs.shape[0])[np.argsort((-1)*np.array(similarity[i]))]]\n",
    "        # remove original vector indices from ranking\n",
    "        for r in original_index:\n",
    "            rank.remove(r)\n",
    "\n",
    "        reciprocal = 1/([*rank].index(target_index)+1)\n",
    "        print (reciprocal)\n",
    "        rr.append(reciprocal)\n",
    "        p = rank[0]\n",
    "        print (\"pred = \", p)\n",
    "        print (\"target = \", targets[i])\n",
    "        preds.append(p)\n",
    "    \n",
    "    mrr = np.mean(rr)\n",
    "    acc = np.mean([int(preds[i]==targets[i]) for i in range(len(preds))])\n",
    "    \n",
    "    return mrr, acc\n"
   ]
  },
  {
   "cell_type": "code",
   "execution_count": 125,
   "metadata": {},
   "outputs": [
    {
     "name": "stdout",
     "output_type": "stream",
     "text": [
      "0.013888888888888888\n",
      "pred =  239769\n",
      "target =  672388\n",
      "1.0\n",
      "pred =  29444\n",
      "target =  29444\n",
      "0.14285714285714285\n",
      "pred =  82314\n",
      "target =  116803\n",
      "0.007936507936507936\n",
      "pred =  90378\n",
      "target =  1697246\n",
      "1.0\n",
      "pred =  31502\n",
      "target =  31502\n",
      "1.0\n",
      "pred =  113264\n",
      "target =  113264\n",
      "1.0\n",
      "pred =  215369\n",
      "target =  215369\n",
      "0.018867924528301886\n",
      "pred =  14121\n",
      "target =  161738\n",
      "1.0\n",
      "pred =  10980\n",
      "target =  10980\n",
      "1.0\n",
      "pred =  135420\n",
      "target =  135420\n",
      "1.0\n",
      "pred =  165327\n",
      "target =  165327\n",
      "1.0\n",
      "pred =  56022\n",
      "target =  56022\n",
      "1.0\n",
      "pred =  50500\n",
      "target =  50500\n",
      "0.3333333333333333\n",
      "pred =  50087\n",
      "target =  6001\n",
      "1.0\n",
      "pred =  8514\n",
      "target =  8514\n",
      "1.0\n",
      "pred =  13687\n",
      "target =  13687\n",
      "1.0\n",
      "pred =  22145\n",
      "target =  22145\n",
      "1.0\n",
      "pred =  157153\n",
      "target =  157153\n",
      "1.0\n",
      "pred =  9502\n",
      "target =  9502\n",
      "1.0\n",
      "pred =  25982\n",
      "target =  25982\n",
      "1.0\n",
      "pred =  79816\n",
      "target =  79816\n",
      "1.0\n",
      "pred =  16373\n",
      "target =  16373\n",
      "1.0\n",
      "pred =  11018\n",
      "target =  11018\n",
      "1.0\n",
      "pred =  25489\n",
      "target =  25489\n",
      "1.0\n",
      "pred =  288044\n",
      "target =  288044\n",
      "0.017857142857142856\n",
      "pred =  165327\n",
      "target =  95703\n",
      "1.0\n",
      "pred =  18971\n",
      "target =  18971\n",
      "0.1111111111111111\n",
      "pred =  86253\n",
      "target =  1380683\n",
      "1.0\n",
      "pred =  28190\n",
      "target =  28190\n",
      "1.0\n",
      "pred =  71967\n",
      "target =  71967\n",
      "1.0\n",
      "pred =  137477\n",
      "target =  137477\n",
      "0.007142857142857143\n",
      "pred =  140889\n",
      "target =  11117\n",
      "1.0\n",
      "pred =  52923\n",
      "target =  52923\n",
      "1.0\n",
      "pred =  13601\n",
      "target =  13601\n",
      "0.14285714285714285\n",
      "pred =  194352\n",
      "target =  592660\n",
      "1.0\n",
      "pred =  14107\n",
      "target =  14107\n",
      "1.0\n",
      "pred =  39008\n",
      "target =  39008\n",
      "0.25\n",
      "pred =  138086\n",
      "target =  25548\n",
      "1.0\n",
      "pred =  24395\n",
      "target =  24395\n",
      "0.5\n",
      "pred =  141371\n",
      "target =  29444\n",
      "1.0\n",
      "pred =  116803\n",
      "target =  116803\n",
      "0.0017211703958691911\n",
      "pred =  1913501\n",
      "target =  1697246\n",
      "0.3333333333333333\n",
      "pred =  235044\n",
      "target =  31502\n",
      "0.3333333333333333\n",
      "pred =  592660\n",
      "target =  113264\n",
      "1.0\n",
      "pred =  215369\n",
      "target =  215369\n",
      "0.017543859649122806\n",
      "pred =  112785\n",
      "target =  161738\n",
      "0.3333333333333333\n",
      "pred =  330363\n",
      "target =  10980\n",
      "1.0\n",
      "pred =  135420\n",
      "target =  135420\n",
      "0.2\n",
      "pred =  416846\n",
      "target =  165327\n",
      "0.5\n",
      "pred =  952019\n",
      "target =  56022\n",
      "1.0\n",
      "pred =  50500\n",
      "target =  50500\n",
      "0.00011309658448314861\n",
      "pred =  139705\n",
      "target =  6001\n",
      "0.1\n",
      "pred =  285733\n",
      "target =  8514\n",
      "0.5\n",
      "pred =  116803\n",
      "target =  13687\n",
      "0.1\n",
      "pred =  452781\n",
      "target =  22145\n",
      "0.5\n",
      "pred =  454551\n",
      "target =  157153\n",
      "1.0\n",
      "pred =  9502\n",
      "target =  9502\n",
      "0.2\n",
      "pred =  505223\n",
      "target =  25982\n",
      "1.0\n",
      "pred =  79816\n",
      "target =  79816\n",
      "0.25\n",
      "pred =  295263\n",
      "target =  16373\n",
      "1.0\n",
      "pred =  11018\n",
      "target =  11018\n",
      "0.3333333333333333\n",
      "pred =  791069\n",
      "target =  25489\n",
      "1.0\n",
      "pred =  288044\n",
      "target =  288044\n",
      "1.3291332721932027e-05\n",
      "pred =  452781\n",
      "target =  95703\n",
      "1.0\n",
      "pred =  18971\n",
      "target =  18971\n",
      "0.3333333333333333\n",
      "pred =  974235\n",
      "target =  1380683\n",
      "0.011627906976744186\n",
      "pred =  592660\n",
      "target =  28190\n",
      "0.5\n",
      "pred =  725018\n",
      "target =  71967\n",
      "1.0\n",
      "pred =  137477\n",
      "target =  137477\n",
      "1.141826236883271e-05\n",
      "pred =  592660\n",
      "target =  11117\n",
      "0.0196078431372549\n",
      "pred =  153008\n",
      "target =  52923\n",
      "0.06666666666666667\n",
      "pred =  59657\n",
      "target =  13601\n",
      "1.0\n",
      "pred =  592660\n",
      "target =  592660\n",
      "0.005076142131979695\n",
      "pred =  513736\n",
      "target =  14107\n",
      "0.125\n",
      "pred =  402387\n",
      "target =  39008\n",
      "0.0037313432835820895\n",
      "pred =  592660\n",
      "target =  25548\n",
      "0.05\n",
      "pred =  121507\n",
      "target =  24395\n",
      "0.3333333333333333\n",
      "pred =  265596\n",
      "target =  90378\n",
      "0.5\n",
      "pred =  68904\n",
      "target =  116803\n",
      "0.008130081300813009\n",
      "pred =  90378\n",
      "target =  1697246\n",
      "1.0\n",
      "pred =  31502\n",
      "target =  31502\n",
      "1.0\n",
      "pred =  113264\n",
      "target =  113264\n",
      "1.0\n",
      "pred =  215369\n",
      "target =  215369\n",
      "0.0625\n",
      "pred =  14121\n",
      "target =  161738\n",
      "1.0\n",
      "pred =  10980\n",
      "target =  10980\n",
      "1.0\n",
      "pred =  135420\n",
      "target =  135420\n",
      "1.0\n",
      "pred =  165327\n",
      "target =  165327\n",
      "0.25\n",
      "pred =  51026\n",
      "target =  56022\n",
      "1.0\n",
      "pred =  50500\n",
      "target =  50500\n",
      "0.045454545454545456\n",
      "pred =  17615\n",
      "target =  6001\n",
      "1.0\n",
      "pred =  8514\n",
      "target =  8514\n",
      "1.0\n",
      "pred =  13687\n",
      "target =  13687\n",
      "1.0\n",
      "pred =  22145\n",
      "target =  22145\n",
      "1.0\n",
      "pred =  157153\n",
      "target =  157153\n",
      "1.0\n",
      "pred =  9502\n",
      "target =  9502\n",
      "1.0\n",
      "pred =  25982\n",
      "target =  25982\n",
      "1.0\n",
      "pred =  79816\n",
      "target =  79816\n",
      "1.0\n",
      "pred =  16373\n",
      "target =  16373\n",
      "1.0\n",
      "pred =  11018\n",
      "target =  11018\n",
      "1.0\n",
      "pred =  25489\n",
      "target =  25489\n",
      "1.0\n",
      "pred =  288044\n",
      "target =  288044\n",
      "0.034482758620689655\n",
      "pred =  165327\n",
      "target =  95703\n",
      "1.0\n",
      "pred =  18971\n",
      "target =  18971\n",
      "0.05263157894736842\n",
      "pred =  239175\n",
      "target =  1380683\n",
      "0.2\n",
      "pred =  68904\n",
      "target =  28190\n",
      "0.3333333333333333\n",
      "pred =  51026\n",
      "target =  71967\n",
      "0.5\n",
      "pred =  127770\n",
      "target =  137477\n",
      "0.00273224043715847\n",
      "pred =  106894\n",
      "target =  11117\n",
      "0.5\n",
      "pred =  147463\n",
      "target =  52923\n",
      "1.0\n",
      "pred =  13601\n",
      "target =  13601\n",
      "0.5\n",
      "pred =  194352\n",
      "target =  592660\n",
      "1.0\n",
      "pred =  14107\n",
      "target =  14107\n",
      "1.0\n",
      "pred =  39008\n",
      "target =  39008\n",
      "0.09090909090909091\n",
      "pred =  68904\n",
      "target =  25548\n",
      "1.0\n",
      "pred =  24395\n",
      "target =  24395\n",
      "1.0\n",
      "pred =  90378\n",
      "target =  90378\n",
      "1.0\n",
      "pred =  165397\n",
      "target =  165397\n",
      "0.00980392156862745\n",
      "pred =  90378\n",
      "target =  1697246\n",
      "1.0\n",
      "pred =  31502\n",
      "target =  31502\n",
      "1.0\n",
      "pred =  113264\n",
      "target =  113264\n",
      "1.0\n",
      "pred =  215369\n",
      "target =  215369\n",
      "0.030303030303030304\n",
      "pred =  14121\n",
      "target =  161738\n",
      "1.0\n",
      "pred =  10980\n",
      "target =  10980\n",
      "1.0\n",
      "pred =  135420\n",
      "target =  135420\n",
      "1.0\n",
      "pred =  165327\n",
      "target =  165327\n",
      "1.0\n",
      "pred =  56022\n",
      "target =  56022\n",
      "1.0\n",
      "pred =  50500\n",
      "target =  50500\n",
      "0.05555555555555555\n",
      "pred =  17615\n",
      "target =  6001\n",
      "1.0\n",
      "pred =  8514\n",
      "target =  8514\n",
      "1.0\n",
      "pred =  13687\n",
      "target =  13687\n",
      "1.0\n",
      "pred =  22145\n",
      "target =  22145\n",
      "1.0\n",
      "pred =  157153\n",
      "target =  157153\n",
      "1.0\n",
      "pred =  9502\n",
      "target =  9502\n",
      "1.0\n",
      "pred =  25982\n",
      "target =  25982\n",
      "1.0\n",
      "pred =  79816\n",
      "target =  79816\n",
      "1.0\n",
      "pred =  16373\n",
      "target =  16373\n",
      "1.0\n",
      "pred =  11018\n",
      "target =  11018\n",
      "1.0\n",
      "pred =  25489\n",
      "target =  25489\n",
      "1.0\n",
      "pred =  288044\n",
      "target =  288044\n",
      "0.017857142857142856\n",
      "pred =  165327\n",
      "target =  95703\n",
      "1.0\n",
      "pred =  18971\n",
      "target =  18971\n",
      "0.16666666666666666\n",
      "pred =  974235\n",
      "target =  1380683\n",
      "1.0\n",
      "pred =  28190\n",
      "target =  28190\n",
      "1.0\n",
      "pred =  71967\n",
      "target =  71967\n",
      "1.0\n",
      "pred =  137477\n",
      "target =  137477\n",
      "0.007874015748031496\n",
      "pred =  56053\n",
      "target =  11117\n",
      "1.0\n",
      "pred =  52923\n",
      "target =  52923\n",
      "1.0\n",
      "pred =  13601\n",
      "target =  13601\n",
      "0.5\n",
      "pred =  194352\n",
      "target =  592660\n",
      "1.0\n",
      "pred =  14107\n",
      "target =  14107\n",
      "1.0\n",
      "pred =  39008\n",
      "target =  39008\n",
      "1.0\n",
      "pred =  25548\n",
      "target =  25548\n",
      "1.0\n",
      "pred =  24395\n",
      "target =  24395\n",
      "1.0\n",
      "pred =  90378\n",
      "target =  90378\n",
      "1.0\n",
      "pred =  165397\n",
      "target =  165397\n",
      "0.14285714285714285\n",
      "pred =  239769\n",
      "target =  672388\n",
      "1.0\n",
      "pred =  31502\n",
      "target =  31502\n",
      "0.3333333333333333\n",
      "pred =  2004271\n",
      "target =  113264\n",
      "1.0\n",
      "pred =  215369\n",
      "target =  215369\n",
      "0.011494252873563218\n",
      "pred =  14121\n",
      "target =  161738\n",
      "0.5\n",
      "pred =  27287\n",
      "target =  10980\n",
      "0.3333333333333333\n",
      "pred =  212183\n",
      "target =  135420\n",
      "1.0\n",
      "pred =  165327\n",
      "target =  165327\n",
      "0.03125\n",
      "pred =  1413579\n",
      "target =  56022\n",
      "1.0\n",
      "pred =  50500\n",
      "target =  50500\n",
      "0.005076142131979695\n",
      "pred =  81918\n",
      "target =  6001\n",
      "1.0\n",
      "pred =  8514\n",
      "target =  8514\n",
      "1.0\n",
      "pred =  13687\n",
      "target =  13687\n",
      "1.0\n",
      "pred =  22145\n",
      "target =  22145\n",
      "1.0\n",
      "pred =  157153\n",
      "target =  157153\n",
      "0.25\n",
      "pred =  60957\n",
      "target =  9502\n",
      "0.08333333333333333\n",
      "pred =  77542\n",
      "target =  25982\n",
      "1.0\n",
      "pred =  79816\n",
      "target =  79816\n",
      "1.0\n",
      "pred =  16373\n",
      "target =  16373\n",
      "1.0\n",
      "pred =  11018\n",
      "target =  11018\n",
      "1.0\n",
      "pred =  25489\n",
      "target =  25489\n",
      "0.3333333333333333\n",
      "pred =  733603\n",
      "target =  288044\n",
      "3.803727653100038e-05\n",
      "pred =  497678\n",
      "target =  95703\n",
      "1.0\n",
      "pred =  18971\n",
      "target =  18971\n",
      "0.022727272727272728\n",
      "pred =  974235\n",
      "target =  1380683\n"
     ]
    }
   ],
   "source": [
    "mrr, acc = analogy_evaluation(gloveMat, \n",
    "                              token2idGlove,\n",
    "                              fname=\"data/gram6-nationality-adjective.txt\")"
   ]
  },
  {
   "cell_type": "code",
   "execution_count": 126,
   "metadata": {},
   "outputs": [
    {
     "data": {
      "text/plain": [
       "(0.675622082960195, 0.6055555555555555)"
      ]
     },
     "execution_count": 126,
     "metadata": {},
     "output_type": "execute_result"
    }
   ],
   "source": [
    "mrr, acc"
   ]
  },
  {
   "cell_type": "code",
   "execution_count": null,
   "metadata": {},
   "outputs": [],
   "source": []
  },
  {
   "cell_type": "code",
   "execution_count": 16,
   "metadata": {},
   "outputs": [
    {
     "data": {
      "text/plain": [
       "(0.9391509433962264, defaultdict(int, {True: 97, False: 9}))"
      ]
     },
     "execution_count": 16,
     "metadata": {},
     "output_type": "execute_result"
    }
   ],
   "source": [
    "analogy_evaluation(glove_vecs, \"gram6-nationality-adjective.txt\")"
   ]
  }
 ],
 "metadata": {
  "kernelspec": {
   "display_name": "Python 3",
   "language": "python",
   "name": "python3"
  },
  "language_info": {
   "codemirror_mode": {
    "name": "ipython",
    "version": 3
   },
   "file_extension": ".py",
   "mimetype": "text/x-python",
   "name": "python",
   "nbconvert_exporter": "python",
   "pygments_lexer": "ipython3",
   "version": "3.6.6"
  }
 },
 "nbformat": 4,
 "nbformat_minor": 1
}
